{
  "nbformat": 4,
  "nbformat_minor": 0,
  "metadata": {
    "colab": {
      "name": "Assignment3.ipynb",
      "provenance": [],
      "collapsed_sections": []
    },
    "kernelspec": {
      "name": "python3",
      "display_name": "Python 3"
    }
  },
  "cells": [
    {
      "cell_type": "code",
      "metadata": {
        "id": "l-cxkpu5u7AH"
      },
      "source": [
        "#importing matplotlib, pandas, numpy for plotting data, load data and to perform operations\n",
        "import matplotlib.pyplot as plt\n",
        "import pandas as pd\n",
        "import numpy as np\n",
        "from pandas import DataFrame\n",
        "import os\n",
        "import warnings\n",
        "warnings.filterwarnings('ignore')\n",
        "%matplotlib inline"
      ],
      "execution_count": null,
      "outputs": []
    },
    {
      "cell_type": "code",
      "metadata": {
        "id": "x04mX95WvERd"
      },
      "source": [
        "#loading train dataset\n",
        "X_train = pd.read_csv(\"http://kdd.ics.uci.edu/databases/tic/ticdata2000.txt\", delimiter='\\t', header=None )\n",
        "#creating a new dataframe of only train Target column\n",
        "y_train = pd.DataFrame(X_train[85])\n",
        "# removing the target column from train dataset \n",
        "X_train = X_train.drop(columns=[85], axis=1)\n",
        "\n",
        "#loading X test dataset \n",
        "X_test = pd.read_csv(\"http://kdd.ics.uci.edu/databases/tic/ticeval2000.txt\", delimiter='\\t', header=None )\n",
        "#loading y test dataset\n",
        "y_test = pd.read_csv(\"http://kdd.ics.uci.edu/databases/tic/tictgts2000.txt\", delimiter='\\t', header=None )"
      ],
      "execution_count": null,
      "outputs": []
    },
    {
      "cell_type": "code",
      "metadata": {
        "id": "_ZfIxeh1vFHF",
        "colab": {
          "base_uri": "https://localhost:8080/",
          "height": 51
        },
        "outputId": "c7a60547-c4df-455c-c036-a0a31cd9b182"
      },
      "source": [
        "#printing shapes of each dataset\n",
        "print(\"X_train shape : \",X_train.shape,\" y_train shape : \", y_train.shape )\n",
        "print(\"X_test shape : \",X_test.shape,\" y_test shape : \", y_test.shape )"
      ],
      "execution_count": null,
      "outputs": [
        {
          "output_type": "stream",
          "text": [
            "X_train shape :  (5822, 85)  y_train shape :  (5822, 1)\n",
            "X_test shape :  (4000, 85)  y_test shape :  (4000, 1)\n"
          ],
          "name": "stdout"
        }
      ]
    },
    {
      "cell_type": "markdown",
      "metadata": {
        "id": "R_O6oR5rvMRk"
      },
      "source": [
        "### **Question 1**\n",
        "Finding Top 10 important features"
      ]
    },
    {
      "cell_type": "code",
      "metadata": {
        "id": "Lc6pI7WwvIxP"
      },
      "source": [
        "#importing SelectKBest module to find k best features\n",
        "from sklearn.feature_selection import SelectKBest\n",
        "#importing chi square module to select it as a scoring function \n",
        "from sklearn.feature_selection import chi2"
      ],
      "execution_count": null,
      "outputs": []
    },
    {
      "cell_type": "code",
      "metadata": {
        "id": "Sol6aVmhvP5m"
      },
      "source": [
        "#creating a model of SelectKBest with scoring function and k value as the no. of features\n",
        "bestfeatures = SelectKBest(score_func=chi2, k=10)\n",
        "#fitting train datasets on model\n",
        "skb_fit = bestfeatures.fit(X_train, y_train)\n"
      ],
      "execution_count": null,
      "outputs": []
    },
    {
      "cell_type": "code",
      "metadata": {
        "id": "ZU3_mi9wvSd9"
      },
      "source": [
        "#creating a dataframe to view each features with their scores\n",
        "dfscores = pd.DataFrame(skb_fit.scores_)\n",
        "dfcolumns = pd.DataFrame(X_train.columns)"
      ],
      "execution_count": null,
      "outputs": []
    },
    {
      "cell_type": "code",
      "metadata": {
        "id": "nC1hbbJzvVLR",
        "colab": {
          "base_uri": "https://localhost:8080/",
          "height": 419
        },
        "outputId": "2ebe6978-eb38-44bb-f95f-989ccd6f3151"
      },
      "source": [
        "featureScores = pd.concat([dfcolumns, dfscores], axis=1)\n",
        "featureScores.columns = ['feature', 'Scores']\n",
        "featureScores"
      ],
      "execution_count": null,
      "outputs": [
        {
          "output_type": "execute_result",
          "data": {
            "text/html": [
              "<div>\n",
              "<style scoped>\n",
              "    .dataframe tbody tr th:only-of-type {\n",
              "        vertical-align: middle;\n",
              "    }\n",
              "\n",
              "    .dataframe tbody tr th {\n",
              "        vertical-align: top;\n",
              "    }\n",
              "\n",
              "    .dataframe thead th {\n",
              "        text-align: right;\n",
              "    }\n",
              "</style>\n",
              "<table border=\"1\" class=\"dataframe\">\n",
              "  <thead>\n",
              "    <tr style=\"text-align: right;\">\n",
              "      <th></th>\n",
              "      <th>feature</th>\n",
              "      <th>Scores</th>\n",
              "    </tr>\n",
              "  </thead>\n",
              "  <tbody>\n",
              "    <tr>\n",
              "      <th>0</th>\n",
              "      <td>0</td>\n",
              "      <td>190.696878</td>\n",
              "    </tr>\n",
              "    <tr>\n",
              "      <th>1</th>\n",
              "      <td>1</td>\n",
              "      <td>0.083062</td>\n",
              "    </tr>\n",
              "    <tr>\n",
              "      <th>2</th>\n",
              "      <td>2</td>\n",
              "      <td>1.715433</td>\n",
              "    </tr>\n",
              "    <tr>\n",
              "      <th>3</th>\n",
              "      <td>3</td>\n",
              "      <td>0.026041</td>\n",
              "    </tr>\n",
              "    <tr>\n",
              "      <th>4</th>\n",
              "      <td>4</td>\n",
              "      <td>39.514947</td>\n",
              "    </tr>\n",
              "    <tr>\n",
              "      <th>...</th>\n",
              "      <td>...</td>\n",
              "      <td>...</td>\n",
              "    </tr>\n",
              "    <tr>\n",
              "      <th>80</th>\n",
              "      <td>80</td>\n",
              "      <td>3.994726</td>\n",
              "    </tr>\n",
              "    <tr>\n",
              "      <th>81</th>\n",
              "      <td>81</td>\n",
              "      <td>72.088379</td>\n",
              "    </tr>\n",
              "    <tr>\n",
              "      <th>82</th>\n",
              "      <td>82</td>\n",
              "      <td>9.506733</td>\n",
              "    </tr>\n",
              "    <tr>\n",
              "      <th>83</th>\n",
              "      <td>83</td>\n",
              "      <td>1.958995</td>\n",
              "    </tr>\n",
              "    <tr>\n",
              "      <th>84</th>\n",
              "      <td>84</td>\n",
              "      <td>26.123264</td>\n",
              "    </tr>\n",
              "  </tbody>\n",
              "</table>\n",
              "<p>85 rows × 2 columns</p>\n",
              "</div>"
            ],
            "text/plain": [
              "    feature      Scores\n",
              "0         0  190.696878\n",
              "1         1    0.083062\n",
              "2         2    1.715433\n",
              "3         3    0.026041\n",
              "4         4   39.514947\n",
              "..      ...         ...\n",
              "80       80    3.994726\n",
              "81       81   72.088379\n",
              "82       82    9.506733\n",
              "83       83    1.958995\n",
              "84       84   26.123264\n",
              "\n",
              "[85 rows x 2 columns]"
            ]
          },
          "metadata": {
            "tags": []
          },
          "execution_count": 219
        }
      ]
    },
    {
      "cell_type": "code",
      "metadata": {
        "id": "yWD6sTfavXXR",
        "colab": {
          "base_uri": "https://localhost:8080/",
          "height": 359
        },
        "outputId": "0d53230a-4228-48f9-f760-3001f6f50882"
      },
      "source": [
        "# creating data frame of just top 10 features\n",
        "Top10features = pd.DataFrame(featureScores.nlargest(10, 'Scores'))\n",
        "Top10features"
      ],
      "execution_count": null,
      "outputs": [
        {
          "output_type": "execute_result",
          "data": {
            "text/html": [
              "<div>\n",
              "<style scoped>\n",
              "    .dataframe tbody tr th:only-of-type {\n",
              "        vertical-align: middle;\n",
              "    }\n",
              "\n",
              "    .dataframe tbody tr th {\n",
              "        vertical-align: top;\n",
              "    }\n",
              "\n",
              "    .dataframe thead th {\n",
              "        text-align: right;\n",
              "    }\n",
              "</style>\n",
              "<table border=\"1\" class=\"dataframe\">\n",
              "  <thead>\n",
              "    <tr style=\"text-align: right;\">\n",
              "      <th></th>\n",
              "      <th>feature</th>\n",
              "      <th>Scores</th>\n",
              "    </tr>\n",
              "  </thead>\n",
              "  <tbody>\n",
              "    <tr>\n",
              "      <th>46</th>\n",
              "      <td>46</td>\n",
              "      <td>380.691708</td>\n",
              "    </tr>\n",
              "    <tr>\n",
              "      <th>60</th>\n",
              "      <td>60</td>\n",
              "      <td>191.696446</td>\n",
              "    </tr>\n",
              "    <tr>\n",
              "      <th>0</th>\n",
              "      <td>0</td>\n",
              "      <td>190.696878</td>\n",
              "    </tr>\n",
              "    <tr>\n",
              "      <th>58</th>\n",
              "      <td>58</td>\n",
              "      <td>100.332586</td>\n",
              "    </tr>\n",
              "    <tr>\n",
              "      <th>29</th>\n",
              "      <td>29</td>\n",
              "      <td>82.130521</td>\n",
              "    </tr>\n",
              "    <tr>\n",
              "      <th>63</th>\n",
              "      <td>63</td>\n",
              "      <td>80.693160</td>\n",
              "    </tr>\n",
              "    <tr>\n",
              "      <th>67</th>\n",
              "      <td>67</td>\n",
              "      <td>78.757821</td>\n",
              "    </tr>\n",
              "    <tr>\n",
              "      <th>15</th>\n",
              "      <td>15</td>\n",
              "      <td>75.173970</td>\n",
              "    </tr>\n",
              "    <tr>\n",
              "      <th>81</th>\n",
              "      <td>81</td>\n",
              "      <td>72.088379</td>\n",
              "    </tr>\n",
              "    <tr>\n",
              "      <th>30</th>\n",
              "      <td>30</td>\n",
              "      <td>71.638337</td>\n",
              "    </tr>\n",
              "  </tbody>\n",
              "</table>\n",
              "</div>"
            ],
            "text/plain": [
              "    feature      Scores\n",
              "46       46  380.691708\n",
              "60       60  191.696446\n",
              "0         0  190.696878\n",
              "58       58  100.332586\n",
              "29       29   82.130521\n",
              "63       63   80.693160\n",
              "67       67   78.757821\n",
              "15       15   75.173970\n",
              "81       81   72.088379\n",
              "30       30   71.638337"
            ]
          },
          "metadata": {
            "tags": []
          },
          "execution_count": 220
        }
      ]
    },
    {
      "cell_type": "code",
      "metadata": {
        "id": "xZ1XO-7_vaRA",
        "colab": {
          "base_uri": "https://localhost:8080/",
          "height": 34
        },
        "outputId": "e60d0386-6339-4021-a60c-b61a8494f474"
      },
      "source": [
        "#getting a list of feature column names or index values and making the hypothesis that these features are important and give best accuracy\n",
        "T = list(Top10features['feature'])\n",
        "print(\"Index of Top10 features : \",T,\" X_train[T].shape : \",X_train[T].shape,\" y_train.shape : \",y_train.shape)"
      ],
      "execution_count": null,
      "outputs": [
        {
          "output_type": "stream",
          "text": [
            "Index of Top10 features :  [46, 60, 0, 58, 29, 63, 67, 15, 81, 30]  X_train[T].shape :  (5822, 10)  y_train.shape :  (5822, 1)\n"
          ],
          "name": "stdout"
        }
      ]
    },
    {
      "cell_type": "markdown",
      "metadata": {
        "id": "xvy__XJPvmeD"
      },
      "source": [
        "### **Question 2**\n",
        "Using Logistic Regression with l1 regularization to find important features with the hep of gridsearch to find best parameter c for logistic regularization"
      ]
    },
    {
      "cell_type": "code",
      "metadata": {
        "id": "5MI47BN-vdZP"
      },
      "source": [
        "#Using logreg to get features to compare with our hypothesis\n",
        "from sklearn.linear_model import LogisticRegression\n",
        "from sklearn.model_selection import GridSearchCV\n",
        "#grid={\"C\":[0.001,0.1,0.-0.001]}# l1 lasso l2 ridge"
      ],
      "execution_count": null,
      "outputs": []
    },
    {
      "cell_type": "code",
      "metadata": {
        "id": "cTMoAXhGvjhD",
        "colab": {
          "base_uri": "https://localhost:8080/",
          "height": 51
        },
        "outputId": "23b0b702-759a-4d55-fbfa-9c8ac835a7ec"
      },
      "source": [
        "#grid={\"C\":np.logspace(-1,1,10)}# l1 lasso l2 ridge , class_weight={ 0:0.5, 1:9.5 }\n",
        "grid={\"C\":[0.1,0.001,0.004,0.008,-0.1]}# l1 lasso l2 ridge\n",
        "#creating model with l1 penalty with liblinear solver\n",
        "logreg=LogisticRegression(penalty=\"l1\", solver='liblinear')\n",
        "#implementing gridsearch with 10 folds\n",
        "logreg_cv=GridSearchCV(logreg,grid,cv=10)\n",
        "logreg_cv.fit(X_train,y_train)\n",
        "#printing the best parameters and accuracy\n",
        "print(\"tuned hpyerparameters :(best parameters) \",logreg_cv.best_params_)\n",
        "print(\"accuracy :\",logreg_cv.best_score_)"
      ],
      "execution_count": null,
      "outputs": [
        {
          "output_type": "stream",
          "text": [
            "tuned hpyerparameters :(best parameters)  {'C': 0.001}\n",
            "accuracy : 0.9402268159124801\n"
          ],
          "name": "stdout"
        }
      ]
    },
    {
      "cell_type": "code",
      "metadata": {
        "id": "xXS3LjSnvvcP",
        "colab": {
          "base_uri": "https://localhost:8080/",
          "height": 34
        },
        "outputId": "90b40733-f373-4ac1-bc34-ab4f42954eee"
      },
      "source": [
        "#printing test accuracy\n",
        "logreg_cv.score(X_test,y_test)"
      ],
      "execution_count": null,
      "outputs": [
        {
          "output_type": "execute_result",
          "data": {
            "text/plain": [
              "0.9405"
            ]
          },
          "metadata": {
            "tags": []
          },
          "execution_count": 224
        }
      ]
    },
    {
      "cell_type": "code",
      "metadata": {
        "id": "Z4_iyKtLv19-",
        "colab": {
          "base_uri": "https://localhost:8080/",
          "height": 323
        },
        "outputId": "7122c402-bd53-4360-c4da-686873aa0baf"
      },
      "source": [
        "#printing the coefficients of model to find non-zero coefficients\n",
        "print(\"Number of features used: {}\".format(np.sum(logreg_cv.best_estimator_.coef_ != 0)))\n",
        "coef = logreg_cv.best_estimator_.coef_\n",
        "coef"
      ],
      "execution_count": null,
      "outputs": [
        {
          "output_type": "stream",
          "text": [
            "Number of features used: 5\n"
          ],
          "name": "stdout"
        },
        {
          "output_type": "execute_result",
          "data": {
            "text/plain": [
              "array([[-0.06111262,  0.        ,  0.        ,  0.        ,  0.        ,\n",
              "         0.        ,  0.        ,  0.        ,  0.        , -0.02820459,\n",
              "         0.        ,  0.        ,  0.        ,  0.        ,  0.        ,\n",
              "         0.        ,  0.        ,  0.        ,  0.        ,  0.        ,\n",
              "         0.        ,  0.        ,  0.        ,  0.        ,  0.        ,\n",
              "         0.        ,  0.        ,  0.        ,  0.        ,  0.        ,\n",
              "         0.        , -0.0903577 ,  0.        ,  0.        , -0.04660976,\n",
              "         0.        ,  0.        ,  0.        ,  0.        ,  0.        ,\n",
              "         0.        ,  0.        , -0.0114366 ,  0.        ,  0.        ,\n",
              "         0.        ,  0.        ,  0.        ,  0.        ,  0.        ,\n",
              "         0.        ,  0.        ,  0.        ,  0.        ,  0.        ,\n",
              "         0.        ,  0.        ,  0.        ,  0.        ,  0.        ,\n",
              "         0.        ,  0.        ,  0.        ,  0.        ,  0.        ,\n",
              "         0.        ,  0.        ,  0.        ,  0.        ,  0.        ,\n",
              "         0.        ,  0.        ,  0.        ,  0.        ,  0.        ,\n",
              "         0.        ,  0.        ,  0.        ,  0.        ,  0.        ,\n",
              "         0.        ,  0.        ,  0.        ,  0.        ,  0.        ]])"
            ]
          },
          "metadata": {
            "tags": []
          },
          "execution_count": 225
        }
      ]
    },
    {
      "cell_type": "markdown",
      "metadata": {
        "id": "Vjmc7WsVwdzV"
      },
      "source": [
        "Hear it can be seen that logistic regession non-zero coefficients features are 5 and when compared with our hypothesis then our hypothesis was wrong, following are there index values to compare.\n",
        "\n",
        "Features in LogistcRegression = [0,9,31,34,42]\n",
        "\n",
        "Features in SelectKBest = [46, 60, 0, 58, 29, 63, 67, 15, 81, 30]\n",
        "\n",
        "Common correct predicted features are = [ 0 ] "
      ]
    },
    {
      "cell_type": "code",
      "metadata": {
        "id": "gBu8n7oav8CP",
        "colab": {
          "base_uri": "https://localhost:8080/",
          "height": 322
        },
        "outputId": "5e69871d-f64a-49c1-d9ad-e007f3d522de"
      },
      "source": [
        "#plotting coefficients of logreg model\n",
        "fig,axs= plt.subplots(1,1, figsize = (20,5))\n",
        "axs.plot(logreg_cv.best_estimator_.coef_.T, 'o', label=\"C=0.001\")\n",
        "plt.xticks(X_train.columns, rotation=90)\n",
        "plt.show()"
      ],
      "execution_count": null,
      "outputs": [
        {
          "output_type": "display_data",
          "data": {
            "image/png": "[encoded data removed]",
            "text/plain": [
              "<Figure size 1440x360 with 1 Axes>"
            ]
          },
          "metadata": {
            "tags": []
          }
        }
      ]
    },
    {
      "cell_type": "markdown",
      "metadata": {
        "id": "go43_goYyOfq"
      },
      "source": [
        "### **Question 3**\n",
        "using polynomial features again with logreg with l1 to see if accuracy increases"
      ]
    },
    {
      "cell_type": "code",
      "metadata": {
        "id": "1aKv1PVbxXeN"
      },
      "source": [
        "# importing polynomial features module and different scaling module and pipeline\n",
        "from sklearn.pipeline import make_pipeline\n",
        "from sklearn.preprocessing import PolynomialFeatures\n",
        "from sklearn.preprocessing import StandardScaler, MinMaxScaler"
      ],
      "execution_count": null,
      "outputs": []
    },
    {
      "cell_type": "code",
      "metadata": {
        "id": "r5QfkcpAzd7N",
        "colab": {
          "base_uri": "https://localhost:8080/",
          "height": 34
        },
        "outputId": "20220fe3-3f12-4292-bf17-b0be3b3163f6"
      },
      "source": [
        "#generating polynomial features with logreg without scaling\n",
        "pipe = make_pipeline( PolynomialFeatures(), LogisticRegression(penalty='l1', solver='liblinear',C=0.001))\n",
        "pipe.fit(X_train,y_train)\n",
        "'''for param in grid.get_params().keys():\n",
        "    print(param)'''"
      ],
      "execution_count": null,
      "outputs": [
        {
          "output_type": "execute_result",
          "data": {
            "text/plain": [
              "'for param in grid.get_params().keys():\\n    print(param)'"
            ]
          },
          "metadata": {
            "tags": []
          },
          "execution_count": 228
        }
      ]
    },
    {
      "cell_type": "code",
      "metadata": {
        "id": "P7fLuM2JzgQG",
        "colab": {
          "base_uri": "https://localhost:8080/",
          "height": 51
        },
        "outputId": "dae7970d-cff2-4cb3-bd7e-c54bdaac5f58"
      },
      "source": [
        "#printing the accuracies of training and test data\n",
        "print(\"accuracy :\",pipe.score(X_train,y_train))\n",
        "print(\"accuracy :\",pipe.score(X_test,y_test))"
      ],
      "execution_count": null,
      "outputs": [
        {
          "output_type": "stream",
          "text": [
            "accuracy : 0.9402267262109241\n",
            "accuracy : 0.9405\n"
          ],
          "name": "stdout"
        }
      ]
    },
    {
      "cell_type": "code",
      "metadata": {
        "id": "2s-rCdmFz6h2",
        "colab": {
          "base_uri": "https://localhost:8080/",
          "height": 34
        },
        "outputId": "dd798cec-1732-4aac-ab8a-46636fb0109b"
      },
      "source": [
        "#Generating polynomial features with scaling\n",
        "pipe_scaler = make_pipeline( StandardScaler(), PolynomialFeatures(), LogisticRegression(penalty='l1', solver='liblinear', C=0.001))\n",
        "pipe_scaler.fit(X_train,y_train)\n",
        "'''for param in grid.get_params().keys():\n",
        "    print(param)'''"
      ],
      "execution_count": null,
      "outputs": [
        {
          "output_type": "execute_result",
          "data": {
            "text/plain": [
              "'for param in grid.get_params().keys():\\n    print(param)'"
            ]
          },
          "metadata": {
            "tags": []
          },
          "execution_count": 230
        }
      ]
    },
    {
      "cell_type": "code",
      "metadata": {
        "id": "LqXj_xEb0S5C",
        "colab": {
          "base_uri": "https://localhost:8080/",
          "height": 51
        },
        "outputId": "bec3d131-8cae-4616-8ec3-8bfd326a0d6c"
      },
      "source": [
        "print(\"accuracy :\",pipe_scaler.score(X_train,y_train))\n",
        "print(\"accuracy :\",pipe_scaler.score(X_test,y_test))"
      ],
      "execution_count": null,
      "outputs": [
        {
          "output_type": "stream",
          "text": [
            "accuracy : 0.9402267262109241\n",
            "accuracy : 0.9405\n"
          ],
          "name": "stdout"
        }
      ]
    },
    {
      "cell_type": "markdown",
      "metadata": {
        "id": "1zCeAalh04pN"
      },
      "source": [
        "We can see with accuracy scores of training and test set even after scaling does not increase in training but slight increase in test set"
      ]
    },
    {
      "cell_type": "markdown",
      "metadata": {
        "id": "4AD6oLkO0_rR"
      },
      "source": [
        "### **Question 4**\n",
        "Using different classification models(trees, forests, gradient boosting, SVM) to improve results\n",
        "\n",
        "Best model considered on its f-score"
      ]
    },
    {
      "cell_type": "code",
      "metadata": {
        "id": "p0BzuTKs0x9c"
      },
      "source": [
        "#RandomForest Classifier\n",
        "from sklearn.ensemble import RandomForestClassifier"
      ],
      "execution_count": null,
      "outputs": []
    },
    {
      "cell_type": "code",
      "metadata": {
        "id": "U4t591Go1Vjb"
      },
      "source": [
        "# splitting the train dataset to apply oversampling and test on validation set\n",
        "from sklearn.model_selection import train_test_split\n",
        "X_train1, X_val, y_train1, y_val = train_test_split(X_train, y_train, test_size = .1, random_state=12)"
      ],
      "execution_count": null,
      "outputs": []
    },
    {
      "cell_type": "code",
      "metadata": {
        "id": "dUQbr3L8Wi-A"
      },
      "source": [
        "# importing SVM SMOTE module for oversampling\n",
        "from imblearn.over_sampling import SVMSMOTE\n",
        "sm = SVMSMOTE(random_state=12)\n",
        "#from imblearn.over_sampling import RandomOverSampler\n",
        "#rus = RandomOverSampler(random_state=1)\n",
        "x_train_res, y_train_res = sm.fit_sample(X_train1, y_train1)"
      ],
      "execution_count": null,
      "outputs": []
    },
    {
      "cell_type": "code",
      "metadata": {
        "id": "EH6nueTVW4RF",
        "colab": {
          "base_uri": "https://localhost:8080/",
          "height": 153
        },
        "outputId": "21715d1c-592c-47d7-81b3-a47be9b61c6d"
      },
      "source": [
        "#RandomForestClassifier model and fitting on oversampled data\n",
        "clf_rf = RandomForestClassifier(n_estimators=25, random_state=12, class_weight={0:0.3, 1: 0.7})\n",
        "clf_rf.fit(x_train_res, y_train_res)"
      ],
      "execution_count": null,
      "outputs": [
        {
          "output_type": "execute_result",
          "data": {
            "text/plain": [
              "RandomForestClassifier(bootstrap=True, ccp_alpha=0.0,\n",
              "                       class_weight={0: 0.3, 1: 0.7}, criterion='gini',\n",
              "                       max_depth=None, max_features='auto', max_leaf_nodes=None,\n",
              "                       max_samples=None, min_impurity_decrease=0.0,\n",
              "                       min_impurity_split=None, min_samples_leaf=1,\n",
              "                       min_samples_split=2, min_weight_fraction_leaf=0.0,\n",
              "                       n_estimators=25, n_jobs=None, oob_score=False,\n",
              "                       random_state=12, verbose=0, warm_start=False)"
            ]
          },
          "metadata": {
            "tags": []
          },
          "execution_count": 235
        }
      ]
    },
    {
      "cell_type": "code",
      "metadata": {
        "id": "21mjEgdUW9Gu",
        "colab": {
          "base_uri": "https://localhost:8080/",
          "height": 51
        },
        "outputId": "d1c87098-2595-42df-eb6e-cc819a65b59b"
      },
      "source": [
        "# printing score of validation dataset of oversampled data\n",
        "print('Validation Results')\n",
        "print(clf_rf.score(X_val, y_val))"
      ],
      "execution_count": null,
      "outputs": [
        {
          "output_type": "stream",
          "text": [
            "Validation Results\n",
            "0.9073756432246999\n"
          ],
          "name": "stdout"
        }
      ]
    },
    {
      "cell_type": "code",
      "metadata": {
        "id": "qpK1upLuXJAI",
        "colab": {
          "base_uri": "https://localhost:8080/",
          "height": 34
        },
        "outputId": "9d9e66dc-423b-45db-acba-0d3a2eaba998"
      },
      "source": [
        "#printing accuracy score on test data\n",
        "print(clf_rf.score(X_test, y_test))"
      ],
      "execution_count": null,
      "outputs": [
        {
          "output_type": "stream",
          "text": [
            "0.913\n"
          ],
          "name": "stdout"
        }
      ]
    },
    {
      "cell_type": "code",
      "metadata": {
        "id": "80BVBTZJX2dH",
        "colab": {
          "base_uri": "https://localhost:8080/",
          "height": 68
        },
        "outputId": "25f47daf-f09a-47c0-a14e-08e2c57c4436"
      },
      "source": [
        "#printing confusion matrix to understand distribution of true and false data between actcual and presdicted values\n",
        "from sklearn.metrics import confusion_matrix\n",
        "y_pred=clf_rf.predict(X_test)\n",
        "print(confusion_matrix(y_test, y_pred))\n",
        "print(clf_rf.score(X_test, y_test))"
      ],
      "execution_count": null,
      "outputs": [
        {
          "output_type": "stream",
          "text": [
            "[[3628  134]\n",
            " [ 214   24]]\n",
            "0.913\n"
          ],
          "name": "stdout"
        }
      ]
    },
    {
      "cell_type": "code",
      "metadata": {
        "id": "3cQDxWVlX99-",
        "colab": {
          "base_uri": "https://localhost:8080/",
          "height": 170
        },
        "outputId": "19bd2610-e1f5-4b8e-9626-3b9070a5416f"
      },
      "source": [
        "#printing classification report to scores of precision and recall on each class\n",
        "from sklearn.metrics import classification_report\n",
        "print(classification_report(y_test, y_pred))"
      ],
      "execution_count": null,
      "outputs": [
        {
          "output_type": "stream",
          "text": [
            "              precision    recall  f1-score   support\n",
            "\n",
            "           0       0.94      0.96      0.95      3762\n",
            "           1       0.15      0.10      0.12       238\n",
            "\n",
            "    accuracy                           0.91      4000\n",
            "   macro avg       0.55      0.53      0.54      4000\n",
            "weighted avg       0.90      0.91      0.90      4000\n",
            "\n"
          ],
          "name": "stdout"
        }
      ]
    },
    {
      "cell_type": "code",
      "metadata": {
        "id": "VIY_dqBLYrhE",
        "colab": {
          "base_uri": "https://localhost:8080/",
          "height": 34
        },
        "outputId": "75e4da79-daee-4f34-bff4-46677954a172"
      },
      "source": [
        "# printing f1 scores\n",
        "from sklearn.metrics import f1_score,roc_auc_score, roc_curve\n",
        "print(\"f1_score of random forest: {:.3f}\".format(f1_score(y_test, y_pred)))"
      ],
      "execution_count": null,
      "outputs": [
        {
          "output_type": "stream",
          "text": [
            "f1_score of random forest: 0.121\n"
          ],
          "name": "stdout"
        }
      ]
    },
    {
      "cell_type": "code",
      "metadata": {
        "id": "LDLcCsB98jNP",
        "colab": {
          "base_uri": "https://localhost:8080/",
          "height": 279
        },
        "outputId": "f76f06e1-8ade-44cd-bfcf-8ed40d48c0c9"
      },
      "source": [
        "# generating a list of zeroes for no skill prediction\n",
        "ns_probs = [0 for _ in range(len(y_test))]\n",
        "# predicting probabilities of test data\n",
        "lr_probs = clf_rf.predict_proba(X_test)\n",
        "# keeping only positive probabilities\n",
        "lr_probs = lr_probs[:, 1]\n",
        "# calculate roc curves\n",
        "ns_fpr, ns_tpr, i = roc_curve(y_test, ns_probs)\n",
        "lr_fpr, lr_tpr, i = roc_curve(y_test, lr_probs)\n",
        "# plot the roc curve for the model\n",
        "pyplot.plot(ns_fpr, ns_tpr, linestyle='--', label='No Skill')\n",
        "pyplot.plot(lr_fpr, lr_tpr, marker='.', label='RF')\n",
        "# axis labels\n",
        "pyplot.xlabel('False Positive Rate')\n",
        "pyplot.ylabel('True Positive Rate')\n",
        "# show the legend\n",
        "pyplot.legend()\n",
        "# show the plot\n",
        "pyplot.show()"
      ],
      "execution_count": null,
      "outputs": [
        {
          "output_type": "display_data",
          "data": {
            "image/png": "[encoded data removed]",
            "text/plain": [
              "<Figure size 432x288 with 1 Axes>"
            ]
          },
          "metadata": {
            "tags": []
          }
        }
      ]
    },
    {
      "cell_type": "markdown",
      "metadata": {
        "id": "gtKIZi-fLL-J"
      },
      "source": [
        "2nd Model "
      ]
    },
    {
      "cell_type": "code",
      "metadata": {
        "id": "bTFIa5TJEKi7"
      },
      "source": [
        "#Gradient Boosting classifier\n",
        "from sklearn.ensemble import GradientBoostingClassifier"
      ],
      "execution_count": null,
      "outputs": []
    },
    {
      "cell_type": "code",
      "metadata": {
        "id": "XkarkkTgG2E-",
        "colab": {
          "base_uri": "https://localhost:8080/",
          "height": 51
        },
        "outputId": "9f5eed67-682b-474c-dc0e-b7a0fe62285c"
      },
      "source": [
        "#creating model \n",
        "gbrt = GradientBoostingClassifier(random_state=0)\n",
        "#fitting oversampled or resampled data to model and printing training and testing accuracy \n",
        "gbrt.fit(x_train_res, y_train_res)\n",
        "print(\"accuracy on training set: %f\" % gbrt.score(x_train_res, y_train_res))\n",
        "print(\"accuracy on test set: %f\" % gbrt.score(X_test, y_test))"
      ],
      "execution_count": null,
      "outputs": [
        {
          "output_type": "stream",
          "text": [
            "accuracy on training set: 0.938338\n",
            "accuracy on test set: 0.893500\n"
          ],
          "name": "stdout"
        }
      ]
    },
    {
      "cell_type": "code",
      "metadata": {
        "id": "D-bdd3_RHGt5",
        "colab": {
          "base_uri": "https://localhost:8080/",
          "height": 68
        },
        "outputId": "17db6d5f-d910-4c23-cf3a-af2125c51bb2"
      },
      "source": [
        "#predicting y values from test data\n",
        "y_pred=gbrt.predict(X_test)\n",
        "#printing confusion matrix and accuracy score\n",
        "print(confusion_matrix(y_test, y_pred))\n",
        "print(gbrt.score(X_test, y_test))"
      ],
      "execution_count": null,
      "outputs": [
        {
          "output_type": "stream",
          "text": [
            "[[3525  237]\n",
            " [ 189   49]]\n",
            "0.8935\n"
          ],
          "name": "stdout"
        }
      ]
    },
    {
      "cell_type": "code",
      "metadata": {
        "id": "9IxTT2QRNOGs",
        "colab": {
          "base_uri": "https://localhost:8080/",
          "height": 170
        },
        "outputId": "ba165fbc-77b2-47fc-dc56-38db8cb28794"
      },
      "source": [
        "print(classification_report(y_test, y_pred))"
      ],
      "execution_count": null,
      "outputs": [
        {
          "output_type": "stream",
          "text": [
            "              precision    recall  f1-score   support\n",
            "\n",
            "           0       0.95      0.94      0.94      3762\n",
            "           1       0.17      0.21      0.19       238\n",
            "\n",
            "    accuracy                           0.89      4000\n",
            "   macro avg       0.56      0.57      0.57      4000\n",
            "weighted avg       0.90      0.89      0.90      4000\n",
            "\n"
          ],
          "name": "stdout"
        }
      ]
    },
    {
      "cell_type": "code",
      "metadata": {
        "id": "7koqtxYrNl0A",
        "colab": {
          "base_uri": "https://localhost:8080/",
          "height": 34
        },
        "outputId": "45318ed6-0b26-44e8-f963-a5c4aa2a009b"
      },
      "source": [
        "#printing f1 score of Gradient Bossting model\n",
        "print(\"f1_score of Gradient Boosting: {:.3f}\".format(f1_score(y_test, y_pred)))"
      ],
      "execution_count": null,
      "outputs": [
        {
          "output_type": "stream",
          "text": [
            "f1_score of Gradient Boosting: 0.187\n"
          ],
          "name": "stdout"
        }
      ]
    },
    {
      "cell_type": "code",
      "metadata": {
        "id": "JgsLuAbjN0VL",
        "colab": {
          "base_uri": "https://localhost:8080/",
          "height": 279
        },
        "outputId": "f346f266-779b-4c76-92b3-24b782814466"
      },
      "source": [
        "# predict probabilities\n",
        "lr_probs = gbrt.predict_proba(X_test)\n",
        "# keep probabilities for the positive outcome only\n",
        "lr_probs = lr_probs[:, 1]\n",
        "lr_auc = roc_auc_score(y_test, lr_probs)\n",
        "# calculate roc curves\n",
        "ns_fpr, ns_tpr,i = roc_curve(y_test, ns_probs)\n",
        "lr_fpr, lr_tpr,i = roc_curve(y_test, lr_probs)\n",
        "# plot the roc curve for the model\n",
        "pyplot.plot(ns_fpr, ns_tpr, linestyle='--', label='No Skill')\n",
        "pyplot.plot(lr_fpr, lr_tpr, marker='.', label='GBRT')\n",
        "# axis labels\n",
        "pyplot.xlabel('False Positive Rate')\n",
        "pyplot.ylabel('True Positive Rate')\n",
        "# show the legend\n",
        "pyplot.legend()\n",
        "# show the plot\n",
        "pyplot.show()"
      ],
      "execution_count": null,
      "outputs": [
        {
          "output_type": "display_data",
          "data": {
            "image/png": "[encoded data removed]",
            "text/plain": [
              "<Figure size 432x288 with 1 Axes>"
            ]
          },
          "metadata": {
            "tags": []
          }
        }
      ]
    },
    {
      "cell_type": "markdown",
      "metadata": {
        "id": "ZA6NXkSBMOHe"
      },
      "source": [
        "3rd Model"
      ]
    },
    {
      "cell_type": "code",
      "metadata": {
        "id": "jX4mz72bOPzd",
        "colab": {
          "base_uri": "https://localhost:8080/",
          "height": 85
        },
        "outputId": "439038cb-b57c-4ace-819e-dce4cd501b3d"
      },
      "source": [
        "#importing support vector machine classifier\n",
        "from sklearn.svm import SVC\n",
        "#param_grid = [{'kernel': ['linear'], 'gamma': [1],'C': [1]}]\n",
        "\n",
        "#param_grid = {'C': [0.1, 1, 10, 100, 1000],'gamma': [1, 0.1, 0.01, 0.001, 0.0001],'kernel': ['rbf']}  \n",
        "  \n",
        "#clf_svc = GridSearchCV(SVC(probability=True), param_grid)\n",
        "#creataing model with best parameters evaluated from gridsearchcv\n",
        "clf_svc = SVC(probability=True, kernel='linear', gamma=1, C=1)\n",
        "\n",
        "# fitting the model for grid search \n",
        "clf_svc.fit(x_train_res, y_train_res)"
      ],
      "execution_count": null,
      "outputs": [
        {
          "output_type": "execute_result",
          "data": {
            "text/plain": [
              "SVC(C=1, break_ties=False, cache_size=200, class_weight=None, coef0=0.0,\n",
              "    decision_function_shape='ovr', degree=3, gamma=1, kernel='linear',\n",
              "    max_iter=-1, probability=True, random_state=None, shrinking=True, tol=0.001,\n",
              "    verbose=False)"
            ]
          },
          "metadata": {
            "tags": []
          },
          "execution_count": 248
        }
      ]
    },
    {
      "cell_type": "code",
      "metadata": {
        "id": "VVYxei1ndCYr",
        "colab": {
          "base_uri": "https://localhost:8080/",
          "height": 54
        },
        "outputId": "2340327a-5386-4647-840c-8647723622c3"
      },
      "source": [
        "'''# print best parameter after tuning \n",
        "print(clf_svc.best_params_) \n",
        "  \n",
        "# print how our model looks after hyper-parameter tuning \n",
        "print(clf_svc.best_estimator_) '''"
      ],
      "execution_count": null,
      "outputs": [
        {
          "output_type": "execute_result",
          "data": {
            "text/plain": [
              "'# print best parameter after tuning \\nprint(clf_svc.best_params_) \\n  \\n# print how our model looks after hyper-parameter tuning \\nprint(clf_svc.best_estimator_) '"
            ]
          },
          "metadata": {
            "tags": []
          },
          "execution_count": 249
        }
      ]
    },
    {
      "cell_type": "code",
      "metadata": {
        "id": "n7viJow_mrg2",
        "colab": {
          "base_uri": "https://localhost:8080/",
          "height": 51
        },
        "outputId": "16cdcada-5bba-4b28-a26e-c3a662e92cb0"
      },
      "source": [
        "# printing training resampled and test data accuracy\n",
        "print(\"accuracy on training set: %f\" % clf_svc.score(x_train_res, y_train_res))\n",
        "print(\"accuracy on test set: %f\" % clf_svc.score(X_test, y_test))"
      ],
      "execution_count": null,
      "outputs": [
        {
          "output_type": "stream",
          "text": [
            "accuracy on training set: 0.932649\n",
            "accuracy on test set: 0.922000\n"
          ],
          "name": "stdout"
        }
      ]
    },
    {
      "cell_type": "code",
      "metadata": {
        "id": "JjfJLboOpQNb",
        "colab": {
          "base_uri": "https://localhost:8080/",
          "height": 68
        },
        "outputId": "9c9f33b5-e7f6-4270-a84f-3633add7ded9"
      },
      "source": [
        "y_pred=clf_svc.predict(X_test)\n",
        "print(confusion_matrix(y_test, y_pred))\n",
        "print(clf_svc.score(X_test, y_test))"
      ],
      "execution_count": null,
      "outputs": [
        {
          "output_type": "stream",
          "text": [
            "[[3666   96]\n",
            " [ 216   22]]\n",
            "0.922\n"
          ],
          "name": "stdout"
        }
      ]
    },
    {
      "cell_type": "code",
      "metadata": {
        "id": "kv9iRYaupZAK",
        "colab": {
          "base_uri": "https://localhost:8080/",
          "height": 170
        },
        "outputId": "67d7f6cb-a489-4aa0-c9b2-252d2f98367e"
      },
      "source": [
        "print(classification_report(y_test, y_pred))"
      ],
      "execution_count": null,
      "outputs": [
        {
          "output_type": "stream",
          "text": [
            "              precision    recall  f1-score   support\n",
            "\n",
            "           0       0.94      0.97      0.96      3762\n",
            "           1       0.19      0.09      0.12       238\n",
            "\n",
            "    accuracy                           0.92      4000\n",
            "   macro avg       0.57      0.53      0.54      4000\n",
            "weighted avg       0.90      0.92      0.91      4000\n",
            "\n"
          ],
          "name": "stdout"
        }
      ]
    },
    {
      "cell_type": "code",
      "metadata": {
        "id": "BqjXSfuCpd6z",
        "colab": {
          "base_uri": "https://localhost:8080/",
          "height": 34
        },
        "outputId": "20be6f68-94f3-4de4-d747-663c5bca9a7b"
      },
      "source": [
        "#printing f1 score of SVM model\n",
        "print(\"f1_score of SVM: {:.3f}\".format(f1_score(y_test, y_pred)))"
      ],
      "execution_count": null,
      "outputs": [
        {
          "output_type": "stream",
          "text": [
            "f1_score of SVM: 0.124\n"
          ],
          "name": "stdout"
        }
      ]
    },
    {
      "cell_type": "code",
      "metadata": {
        "id": "tj-LY-XVpjCp",
        "colab": {
          "base_uri": "https://localhost:8080/",
          "height": 279
        },
        "outputId": "b091d9ff-0577-4fe6-9538-d49d468de9fc"
      },
      "source": [
        "# predict probabilities\n",
        "lr_probs = clf_svc.predict_proba(X_test)\n",
        "# keep probabilities for the positive outcome only\n",
        "lr_probs = lr_probs[:, 1]\n",
        "# calculate roc curves\n",
        "ns_fpr, ns_tpr, i = roc_curve(y_test, ns_probs)\n",
        "lr_fpr, lr_tpr, i = roc_curve(y_test, lr_probs)\n",
        "# plot the roc curve for the model\n",
        "pyplot.plot(ns_fpr, ns_tpr, linestyle='--', label='No Skill')\n",
        "pyplot.plot(lr_fpr, lr_tpr, marker='.', label='SVM')\n",
        "# axis labels\n",
        "pyplot.xlabel('False Positive Rate')\n",
        "pyplot.ylabel('True Positive Rate')\n",
        "# show the legend\n",
        "pyplot.legend()\n",
        "# show the plot\n",
        "pyplot.show()"
      ],
      "execution_count": null,
      "outputs": [
        {
          "output_type": "display_data",
          "data": {
            "image/png": "[encoded data removed]",
            "text/plain": [
              "<Figure size 432x288 with 1 Axes>"
            ]
          },
          "metadata": {
            "tags": []
          }
        }
      ]
    },
    {
      "cell_type": "markdown",
      "metadata": {
        "id": "ThqCRC7dGasB"
      },
      "source": [
        "The best model based on f1 score is Gradient Boosting Model with testing accuracy 0.893, traing accuracy 0.938 and f1 score 0.187"
      ]
    },
    {
      "cell_type": "markdown",
      "metadata": {
        "id": "jN3A-bObHsyO"
      },
      "source": [
        "### **Question 5**\n",
        "Explainable model with accuracy closer to of best model"
      ]
    },
    {
      "cell_type": "code",
      "metadata": {
        "id": "ISpzeLd3p_Kg"
      },
      "source": [
        "#creating data set of only few important features based on our assumption from 1st question\n",
        "X_train_expl = pd.DataFrame(X_train, columns = [0,15,29,30,46,58,60,63,67,81])\n",
        "X_test_expl = pd.DataFrame(X_test, columns = [0,15,29,30,46,58,60,63,67,81])"
      ],
      "execution_count": null,
      "outputs": []
    },
    {
      "cell_type": "code",
      "metadata": {
        "id": "q0VvCbLBKelt",
        "colab": {
          "base_uri": "https://localhost:8080/",
          "height": 34
        },
        "outputId": "55de7e45-b39d-4159-fd4f-c30f21a1ef33"
      },
      "source": [
        "print(X_train_expl.shape, y_train.shape)"
      ],
      "execution_count": null,
      "outputs": [
        {
          "output_type": "stream",
          "text": [
            "(5822, 10) (5822, 1)\n"
          ],
          "name": "stdout"
        }
      ]
    },
    {
      "cell_type": "markdown",
      "metadata": {
        "id": "KE0JGKFkODNK"
      },
      "source": [
        "First Testing the data on logreg model to see if its accuracy matches with the best model"
      ]
    },
    {
      "cell_type": "code",
      "metadata": {
        "id": "cTeN7GBIJ4Ua",
        "colab": {
          "base_uri": "https://localhost:8080/",
          "height": 102
        },
        "outputId": "c31f6e4d-3d1d-4ac2-8af6-5131723a4c25"
      },
      "source": [
        "logreg=LogisticRegression(penalty=\"l1\", solver='liblinear')\n",
        "logreg.fit(X_train_expl,y_train)"
      ],
      "execution_count": null,
      "outputs": [
        {
          "output_type": "execute_result",
          "data": {
            "text/plain": [
              "LogisticRegression(C=1.0, class_weight=None, dual=False, fit_intercept=True,\n",
              "                   intercept_scaling=1, l1_ratio=None, max_iter=100,\n",
              "                   multi_class='auto', n_jobs=None, penalty='l1',\n",
              "                   random_state=None, solver='liblinear', tol=0.0001, verbose=0,\n",
              "                   warm_start=False)"
            ]
          },
          "metadata": {
            "tags": []
          },
          "execution_count": 257
        }
      ]
    },
    {
      "cell_type": "code",
      "metadata": {
        "id": "2KzDZgqFmJME",
        "colab": {
          "base_uri": "https://localhost:8080/",
          "height": 34
        },
        "outputId": "799a2209-5799-4c2c-83e3-67841a47dde9"
      },
      "source": [
        "#printing test data accuracy\n",
        "logreg.score(X_test_expl,y_test)"
      ],
      "execution_count": null,
      "outputs": [
        {
          "output_type": "execute_result",
          "data": {
            "text/plain": [
              "0.94025"
            ]
          },
          "metadata": {
            "tags": []
          },
          "execution_count": 258
        }
      ]
    },
    {
      "cell_type": "markdown",
      "metadata": {
        "id": "0FjcClmOOwlh"
      },
      "source": [
        "Secondly Testing the data on decision tree model to see if its accuracy matches with the best model"
      ]
    },
    {
      "cell_type": "code",
      "metadata": {
        "id": "u2MOfXjytOdF"
      },
      "source": [
        "#applying Decision Tree Model\n",
        "from sklearn.tree import DecisionTreeClassifier, export_graphviz\n",
        "tree = DecisionTreeClassifier(max_depth=3)"
      ],
      "execution_count": null,
      "outputs": []
    },
    {
      "cell_type": "code",
      "metadata": {
        "id": "EPTcsxt3t-7T",
        "colab": {
          "base_uri": "https://localhost:8080/",
          "height": 119
        },
        "outputId": "014b6f4b-dd2d-4868-8bab-706838160eba"
      },
      "source": [
        "tree.fit(X_train_expl, y_train)"
      ],
      "execution_count": null,
      "outputs": [
        {
          "output_type": "execute_result",
          "data": {
            "text/plain": [
              "DecisionTreeClassifier(ccp_alpha=0.0, class_weight=None, criterion='gini',\n",
              "                       max_depth=3, max_features=None, max_leaf_nodes=None,\n",
              "                       min_impurity_decrease=0.0, min_impurity_split=None,\n",
              "                       min_samples_leaf=1, min_samples_split=2,\n",
              "                       min_weight_fraction_leaf=0.0, presort='deprecated',\n",
              "                       random_state=None, splitter='best')"
            ]
          },
          "metadata": {
            "tags": []
          },
          "execution_count": 260
        }
      ]
    },
    {
      "cell_type": "code",
      "metadata": {
        "id": "ecdwuc4nvI4C",
        "colab": {
          "base_uri": "https://localhost:8080/",
          "height": 265
        },
        "outputId": "93524a36-f0c7-4ade-9f06-e37ec46e4940"
      },
      "source": [
        "#plotting tree and printing score\n",
        "from sklearn.tree import plot_tree\n",
        "tree_dot = plot_tree(tree, fontsize=8)\n",
        "tree.score(X_test_expl,y_test)"
      ],
      "execution_count": null,
      "outputs": [
        {
          "output_type": "execute_result",
          "data": {
            "text/plain": [
              "0.93925"
            ]
          },
          "metadata": {
            "tags": []
          },
          "execution_count": 261
        },
        {
          "output_type": "display_data",
          "data": {
            "image/png": "[encoded data removed]",
            "text/plain": [
              "<Figure size 432x288 with 1 Axes>"
            ]
          },
          "metadata": {
            "tags": []
          }
        }
      ]
    },
    {
      "cell_type": "markdown",
      "metadata": {
        "id": "gYC84WfHzS-C"
      },
      "source": [
        "In Both the explainable models we get accuracy score close to our best model but Decision Tree's accuracy is almost the same with the tuned parameter of depth"
      ]
    }
  ]
}